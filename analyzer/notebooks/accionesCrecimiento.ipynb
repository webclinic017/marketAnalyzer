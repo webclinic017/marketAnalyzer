{
 "cells": [
  {
   "cell_type": "code",
   "execution_count": null,
   "id": "8ff5708c",
   "metadata": {},
   "outputs": [],
   "source": [
    "import os\n",
    "print(os.getcwd())\n",
    "import pandas as pd\n",
    "import sys\n",
    "import numpy as np\n",
    "import datetime as dt\n",
    "import os\n",
    "import matplotlib.pyplot as plt\n",
    "import seaborn as sns\n",
    "sys.path.append(\"../../analyzer/getData\")\n",
    "import configparser\n",
    "config = configparser.ConfigParser()\n",
    "config.read('../../config.properties')\n",
    "directorio=config.get('ARCHIVOS', 'archivos_h5s_precios')\n",
    "print(directorio)\n",
    "import bdStocks\n",
    "bd= bdStocks.getData()\n",
    "sectores=None\n",
    "fechaI=\"2008-12-01\"\n",
    "fechaF=\"2022-06-01\"\n",
    "periodoIndice=\"M\"\n",
    "fechaI=dt.datetime.strptime(fechaI, '%Y-%m-%d')\n",
    "fechaF=dt.datetime.strptime(fechaF, '%Y-%m-%d')\n",
    "files=os.listdir(directorio)\n",
    "h5s= pd.HDFStore(directorio+files[0], \"r\")\n",
    "precios=h5s[\"data\"]\n",
    "h5s.close()\n",
    "ex=files[0].split(\"_\")[-1].split(\".\")[0]\n",
    "precios[\"exchange\"]=ex\n",
    "exchanges=[ex]\n",
    "time_range = pd.date_range(fechaI, fechaF,freq=periodoIndice,normalize=True)\n",
    "time_range=[e.replace(day=1) for e in time_range]\n",
    "for file in files[1:]:\n",
    "    h5s=pd.HDFStore(directorio+file, \"r\")\n",
    "    dat_aux=h5s[\"data\"]\n",
    "    ex=file.split(\"_\")[-1].split(\".\")[0]\n",
    "    dat_aux[\"exchange\"]=ex\n",
    "    precios=pd.concat([precios,dat_aux])\n",
    "    exchanges.append(ex)\n",
    "precios.set_index(\"exchange\",inplace=True,append=True)\n",
    "sectores=bd.getSectors()"
   ]
  },
  {
   "cell_type": "code",
   "execution_count": null,
   "id": "870ab7c0",
   "metadata": {},
   "outputs": [],
   "source": [
    "exchange=\"US\"\n",
    "indice=\"nasdaq100\"\n",
    "datos=bd.executeQueryDataFrame(\"select  stock,fecha,adjusted_close*commonStockSharesOutstanding as market_cap from\\\n",
    " ratios_results inner join indices on indices.company=ratios_results.stock where indices.indice=%s\\\n",
    " and ratios_results.exchange=%s order by fecha asc;\",(indice,exchange))"
   ]
  },
  {
   "cell_type": "code",
   "execution_count": null,
   "id": "d156b75f",
   "metadata": {},
   "outputs": [],
   "source": [
    "precios=bd.executeQueryDataFrame(\"select  stock,fecha,adjusted_close from\\\n",
    " {}_precios inner join indices on indices.company={}_precios.stock where indices.indice=%s\\\n",
    " order by fecha asc;\".format(exchange,exchange),(indice,))"
   ]
  },
  {
   "cell_type": "code",
   "execution_count": null,
   "id": "c3da0265",
   "metadata": {},
   "outputs": [],
   "source": [
    "precios.tail()"
   ]
  },
  {
   "cell_type": "code",
   "execution_count": null,
   "id": "f2960dcd",
   "metadata": {},
   "outputs": [],
   "source": [
    "precios[\"fecha\"]=pd.to_datetime(precios.fecha)\n",
    "precios=precios.set_index([\"fecha\",\"stock\"],drop=False)\n",
    "precios1=precios.loc[precios.fecha>dt.datetime(2021,10,1)]\n",
    "precios2=precios.loc[precios.fecha>dt.datetime(2022,1,1)]\n",
    "diferencias={\n",
    "}\n",
    "diferenciasAno={}\n",
    "for e in np.unique(precios1.index.get_level_values(1)):\n",
    "    diferencias[e]=((precios1.loc[:,e,:].adjusted_close[-1]-max(precios1.loc[:,e,:].adjusted_close))/max(precios1.loc[:,e,:].adjusted_close))\n",
    "    diferenciasAno[e]=(precios2.loc[:,e,:].adjusted_close[-1]-precios2.loc[:,e,:].adjusted_close[0])/precios2.loc[:,e,:].adjusted_close[0]"
   ]
  },
  {
   "cell_type": "code",
   "execution_count": null,
   "id": "5ec88d53",
   "metadata": {},
   "outputs": [],
   "source": [
    "sectors=bd.getSectors(\"US\")\n",
    "names=bd.executeQuery(\"select code,name from stocks where exchange='nasdaq'\")\n",
    "names={e[0]:e[1] for e in names}\n",
    "descripciones=bd.executeQuery(\"select stock,description from descriptions where exchange='US'\")\n",
    "descripciones={e[0]:e[1] for e in descripciones}"
   ]
  },
  {
   "cell_type": "code",
   "execution_count": null,
   "id": "27e433d0",
   "metadata": {},
   "outputs": [],
   "source": [
    "datos=datos.groupby(\"stock\",as_index=False).last()\n",
    "datos=datos.sort_values(by=\"market_cap\")\n",
    "datos[\"sector\"]=datos.stock.transform(lambda x: sectors[x] if x in sectors.keys() else None)\n",
    "datos[\"diff\"]=datos.stock.transform(lambda x: diferencias[x] if x in diferencias.keys() else None)\n",
    "datos[\"diffAno\"]=datos.stock.transform(lambda x: diferenciasAno[x] if x in diferencias.keys() else None)\n",
    "datos[\"name\"]=datos.stock.transform(lambda x: names[x] if x in names.keys() else None)"
   ]
  },
  {
   "cell_type": "code",
   "execution_count": null,
   "id": "44befe6d",
   "metadata": {},
   "outputs": [],
   "source": [
    "datos=datos.sort_values(by=\"diffAno\")\n",
    "datos.head(50)\n"
   ]
  },
  {
   "cell_type": "code",
   "execution_count": null,
   "id": "fc788260",
   "metadata": {},
   "outputs": [],
   "source": [
    "indice=bd.executeQueryDataFrame(\"select * from preciosindices where indice='NASDAq' ORDER BY date  ASC\",None)\n",
    "indice[\"Date\"]=pd.to_datetime(indice.Date)\n",
    "indice.set_index(\"Date\",inplace=True)"
   ]
  },
  {
   "cell_type": "code",
   "execution_count": null,
   "id": "bf2aff4a",
   "metadata": {},
   "outputs": [],
   "source": [
    "datosRes=bd.executeQueryDataFrame(\"select * from ratios_results where report_date is not null order by report_date asc\",None)"
   ]
  },
  {
   "cell_type": "code",
   "execution_count": null,
   "id": "3fd02233",
   "metadata": {},
   "outputs": [],
   "source": [
    "datosRes.set_index([\"fecha\",\"stock\",\"exchange\"],inplace=True)"
   ]
  },
  {
   "cell_type": "code",
   "execution_count": null,
   "id": "1eea4383",
   "metadata": {},
   "outputs": [],
   "source": [
    "stocks=iter(list(datos.stock))"
   ]
  },
  {
   "cell_type": "code",
   "execution_count": null,
   "id": "2311bbd1",
   "metadata": {},
   "outputs": [],
   "source": [
    "stock=next(stocks)\n",
    "names[stock],descripciones[stock],stock"
   ]
  },
  {
   "cell_type": "code",
   "execution_count": null,
   "id": "fa50b0e0",
   "metadata": {},
   "outputs": [],
   "source": [
    "\n",
    "#pre=precios.loc[precios.fecha>dt.datetime(2015,1,1)].loc[:,stock,:].droplevel(\"stock\")\n",
    "pre=precios.loc[:,stock,:].droplevel(\"stock\")\n",
    "pre[\"indice\"]=indice[\"Close\"]\n",
    "pre=pre.loc[pre.index.get_level_values(0)>dt.datetime(2015,1,1)]\n",
    "plt.plot(pre.index.get_level_values(0),(pre.indice-pre.indice[0])/pre.indice[0])\n",
    "plt.plot(pre.index.get_level_values(0),(pre.adjusted_close-pre.adjusted_close[0])/pre.adjusted_close[0])\n",
    "plt.xticks(rotation = 'vertical')\n",
    "u=pre.loc[:,[\"indice\",\"adjusted_close\"]]\n",
    "u[\"fecha\"]=u.index\n",
    "#u=u.groupby([u.fecha.dt.year,u.fecha.dt.month]).head(1)\n",
    "corr=u.corr()\n",
    "corr\n"
   ]
  },
  {
   "cell_type": "code",
   "execution_count": null,
   "id": "873dd353",
   "metadata": {
    "scrolled": false
   },
   "outputs": [],
   "source": [
    "\n",
    "f_aux=datosRes.loc[:,stock,\"US\",:].reset_index()\n",
    "f_aux.loc[len(f_aux)-1,\"adjusted_close\"]=precios.loc[:,stock,:].adjusted_close[-1]\n",
    "f_aux[\"fecha\"]=pd.to_datetime(f_aux.fecha)\n",
    "f_aux=f_aux.loc[f_aux.fecha>dt.datetime(2012,1,1)]\n",
    "f_aux[\"per\"]=(f_aux.adjusted_close*f_aux.commonStockSharesOutstanding)/f_aux.netIncome\n",
    "print(list(f_aux.per)[-1]\n",
    "      /4,list(f_aux.earnings_per)[-1]/4)\n",
    "c=[]\n",
    "for columna in f_aux.columns:\n",
    "    if f_aux[columna].dtypes==float:\n",
    "        if f_aux.isna().sum()[columna]<f_aux.shape[0]/2:\n",
    "            c.append(columna)\n",
    "figure,ax=plt.subplots(int(len(c)/2)+1,2,figsize=(20,40))\n",
    "i=j=0\n",
    "for u in c:\n",
    "    ax[i,j].plot(f_aux[\"fecha\"],f_aux[u],marker=\"o\")\n",
    "    ax[i,j].title.set_text(stock+\"_\"+u)\n",
    "    j+=1\n",
    "    if j==2:\n",
    "        j=0\n",
    "        i+=1\n"
   ]
  },
  {
   "cell_type": "code",
   "execution_count": null,
   "id": "f9cb759d",
   "metadata": {},
   "outputs": [],
   "source": [
    "f_aux.loc[:,[\"netIncome\",\"adjusted_close\"]].corr()"
   ]
  },
  {
   "cell_type": "markdown",
   "id": "355b96bd",
   "metadata": {},
   "source": [
    "Acciones seleccionadas: AMD, NVDA, AMAT, SWKS, ADSK, QCOM, ADBE, ZM, NFLX, BIDU, PDD, PYPL, FB, DOCU.\n",
    "Criterio de seleccion: beneficios crecientes los ultimos meses y caidas de precio superior a 30% (caida debido a caida de mercado de 2022-01-01 a 2022-05-01) o caidas yoy superiores a 60% y valoracions inferiores a 2019 para acciones consolidadas."
   ]
  },
  {
   "cell_type": "code",
   "execution_count": null,
   "id": "b2f47b8d",
   "metadata": {},
   "outputs": [],
   "source": [
    "columnas=[\"AMD\",'NVDA',\"AMAT\", 'SWKS',\"ADSK\",\"QCOM\",\"ADBE\",\"ZM\",\"NFLX\",\"BIDU\",\"PDD\",\"PYPL\",\"FB\",\"DOCU\"]\n",
    "semi=precios.loc[precios.index.get_level_values(1).isin(columnas)]\n",
    "semi=semi.loc[semi.fecha>dt.datetime(2015,1,1)]\n",
    "prec=pd.DataFrame()\n",
    "prec.index=semi.droplevel(1).index\n",
    "for e in columnas:\n",
    "    prec[e]=semi.loc[semi.stock==e].droplevel(1).adjusted_close"
   ]
  },
  {
   "cell_type": "code",
   "execution_count": null,
   "id": "e2257bcf",
   "metadata": {},
   "outputs": [],
   "source": [
    "\n",
    "df_numerico=prec\n",
    "fig, ax = plt.subplots(figsize = (15,15))\n",
    "ax.pcolormesh(np.arange(len(df_numerico.columns)+1), np.arange(len(df_numerico.columns)+1), df_numerico.corr().values, cmap = 'Blues')\n",
    "plt.xticks(np.arange(len(df_numerico.columns)),df_numerico.columns, rotation = 'vertical');\n",
    "plt.yticks(np.arange(len(df_numerico.columns)), df_numerico.columns, rotation = 'horizontal');\n",
    "round(prec.corr(),3)"
   ]
  },
  {
   "cell_type": "code",
   "execution_count": null,
   "id": "bcb9cfe7",
   "metadata": {
    "scrolled": false
   },
   "outputs": [],
   "source": [
    "\n",
    "c=[]\n",
    "for columna in [\"netIncome\",\"per\",\"earnings\",\"earnings_per\",\"totalRevenue\",\"ebitda\",\"adjusted_close\"]:\n",
    "    if f_aux[columna].dtypes==float:\n",
    "        if f_aux.isna().sum()[columna]<f_aux.shape[0]/2:\n",
    "            c.append(columna)\n",
    "\n",
    "for u in c:\n",
    "    \n",
    "    plt.figure(figsize=(15,15))\n",
    "    for stock in columnas:\n",
    "            \n",
    "                f_aux=datosRes.loc[:,stock,\"US\",:].reset_index()\n",
    "                f_aux.loc[len(f_aux)-1,\"adjusted_close\"]=precios.loc[:,stock,:].adjusted_close[-1]\n",
    "                f_aux[\"fecha\"]=pd.to_datetime(f_aux.fecha)\n",
    "                f_aux=f_aux.loc[f_aux.fecha>dt.datetime(2012,1,1)]\n",
    "                f_aux[\"per\"]=(f_aux.adjusted_close*f_aux.commonStockSharesOutstanding)/f_aux.netIncome\n",
    "                plt.plot(f_aux[\"fecha\"],(f_aux[u]-f_aux[u].mean())/f_aux[u].std(),marker=\"o\")\n",
    "                plt.title(u)\n",
    "    plt.legend(columnas)\n",
    "        "
   ]
  },
  {
   "cell_type": "code",
   "execution_count": null,
   "id": "a322a375",
   "metadata": {},
   "outputs": [],
   "source": [
    "stock=\"ANSS\"\n",
    "dat=bd.executeQueryDataFrame(\"select * from us_FUNDAMENTAL WHERE STOCK=%s\",(stock,))\n",
    "dat2=precios.loc[:,stock,:,:].loc[precios.fecha>dt.datetime(2016,1,1)]\n",
    "f_aux=dat\n",
    "f_aux[\"fecha\"]=pd.to_datetime(f_aux.fecha)\n",
    "f_aux=f_aux.loc[f_aux.fecha>dt.datetime(2012,1,1)]\n",
    "c=[]\n"
   ]
  },
  {
   "cell_type": "code",
   "execution_count": null,
   "id": "944ea868",
   "metadata": {},
   "outputs": [],
   "source": [
    "f_aux.tail(10).loc[:,[\"fecha\",\"netIncome\"]]"
   ]
  },
  {
   "cell_type": "code",
   "execution_count": null,
   "id": "049eb2a1",
   "metadata": {},
   "outputs": [],
   "source": [
    "c=[]\n",
    "for columna in [\"netIncome\",\"ebitda\",\"totalRevenue\"]:\n",
    "    if f_aux[columna].dtypes==float:\n",
    "            if f_aux.isna().sum()[columna]<f_aux.shape[0]/2:\n",
    "                c.append(columna)\n",
    "figure,ax=plt.subplots(int(len(c)/2)+1,2,figsize=(20,20))\n",
    "i=j=0\n",
    "for u in c:\n",
    "    ax[i,j].plot(f_aux[\"fecha\"],f_aux[u],marker=\"o\")\n",
    "    ax[i,j].title.set_text(stock+\"_\"+u)\n",
    "    j+=1\n",
    "    if j==2:\n",
    "        j=0\n",
    "        i+=1\n",
    "ax[i,j].plot(dat2[\"fecha\"],dat2[\"adjusted_close\"])\n",
    "ax[i,j].title.set_text(stock+\"_Adjusted close\")"
   ]
  }
 ],
 "metadata": {
  "kernelspec": {
   "display_name": "Python 3",
   "language": "python",
   "name": "python3"
  },
  "language_info": {
   "codemirror_mode": {
    "name": "ipython",
    "version": 3
   },
   "file_extension": ".py",
   "mimetype": "text/x-python",
   "name": "python",
   "nbconvert_exporter": "python",
   "pygments_lexer": "ipython3",
   "version": "3.9.5"
  }
 },
 "nbformat": 4,
 "nbformat_minor": 5
}
