{
 "cells": [
  {
   "cell_type": "markdown",
   "id": "33c4c246",
   "metadata": {},
   "source": [
    "<h1> This notebook is expected to analyse trends and oportunities in global markets </h1>"
   ]
  },
  {
   "cell_type": "markdown",
   "id": "c8252253",
   "metadata": {},
   "source": [
    "<h2>First we get an overview of historical growth by sector and exchange </h2>"
   ]
  },
  {
   "cell_type": "code",
   "execution_count": null,
   "id": "a5650dce",
   "metadata": {
    "scrolled": true
   },
   "outputs": [],
   "source": [
    "import sys\n",
    "import pandas as pd\n",
    "sys.path.append(\"../getData\")\n",
    "sys.path.append(\"../functions\")\n",
    "import bdStocks\n",
    "import numpy as np\n",
    "import transformationsDataframes as tD\n",
    "bd=bdStocks.getData()\n",
    "CARGAR_NUEVOS_DATOS=False\n",
    "sql=\"select distinct(sector) from sectors\"\n",
    "sql1=\"select distinct(exchange) from stocks\"\n",
    "sectors=[e[0] for e in bd. executeQuery(sql)]\n",
    "exchanges=[e[0] for e in bd. executeQuery(sql1)]\n",
    "exchanges=[\"LSE\",\"MC\",\"XETRA\",\"PA\",\"US\",\"TO\",\"MI\"]\n",
    "exchangesIndex={\"BE\":\"DAX30\",\"NEO\":\"SPTSX\",\"LSE\":\"FTSE100\",\"MC\":\"IBEX35\",\"US\":\"SP500\",\"XETRA\":\"DAX30\",\"VX\":\"SMI\",\"PA\":\"CAC40\",\"TO\":\"SPTSX\",\"MI\":\"FTSEMIB\",\"AS\":\"AEX\"}\n",
    "columnasPrecios=[\"Adjusted_close\",\"sector\"]\n",
    "columnasFundamental=[\"netIncome\",\"ebitda\",\"totalRevenue\",\"totalAssets\",\"sector\"]"
   ]
  },
  {
   "cell_type": "code",
   "execution_count": null,
   "id": "d3217d7a",
   "metadata": {
    "scrolled": true
   },
   "outputs": [],
   "source": [
    "bd=bdStocks.getData()\n",
    "bd.getDataByExchange(tipo=\"fundamental\",exchange=\"MC\",sector=\"Industrials\",columnas=[\"netIncome\"]).tail()"
   ]
  },
  {
   "cell_type": "code",
   "execution_count": null,
   "id": "1d646097",
   "metadata": {
    "scrolled": true
   },
   "outputs": [],
   "source": [
    "def analyseData(exchange,sector,preciosIndice):\n",
    "    fundamental=bd.getDataByExchange(tipo=\"fundamental\",exchange=exchange,sector=sector,columnas=columnasFundamental)\n",
    "    fundamental=tD.pasarAtrimestres(fundamental)\n",
    "    precios=bd.getDataByExchange(tipo=\"precios\",exchange=exchange,sector=sector,columnas=columnasPrecios)\n",
    "    precios=tD.pasarAMensual(precios)\n",
    "    #print(precios.loc[precios.index.get_level_values(1)==precios.index.get_level_values(1)[0]].tail(5))\n",
    "    #print(fundamental.loc[fundamental.index.get_level_values(1)==fundamental.index.get_level_values(1)[0]].tail(5))\n",
    "    agrupados=precios.groupby([\"stock\"])\n",
    "    precios[\"stock\"]=precios.index.get_level_values(1)\n",
    "    medias=agrupados.mean()\n",
    "   \n",
    "    des=agrupados.std()\n",
    "    precios=precios.apply(lambda x:(x[\"Adjusted_close\"]-medias.loc[x[\"stock\"]])/des.loc[x[\"stock\"]],axis=1)\n",
    "    print(precios.tail())\n",
    "    precios=precios.groupby(level=0).mean()\n",
    "    print(precios.tail())\n",
    "    return precios,precios[\"Adjusted_close\"].corr(preciosIndice[\"Close\"])"
   ]
  },
  {
   "cell_type": "code",
   "execution_count": null,
   "id": "bf5cdf39",
   "metadata": {
    "scrolled": false
   },
   "outputs": [],
   "source": [
    "if CARGAR_NUEVOS_DATOS:\n",
    "    diccionario={}\n",
    "    dataframeSectores=None\n",
    "    for exchange in exchanges:\n",
    "        sectors=bd. getJustSectors(exchange)\n",
    "        preciosIndice=bd.getIndexPrizes(exchangesIndex[exchange])\n",
    "        preciosIndice= tD.pasarAMensual(preciosIndice)\n",
    "        print(preciosIndice.tail(5))\n",
    "        for sector in sectors:\n",
    "\n",
    "            if sector is not None and sector!='':\n",
    "                try:\n",
    "                    print(exchange+\"_\"+sector)\n",
    "                    data1,diccionario[exchange+\"_\"+sector]=analyseData(exchange,sector,preciosIndice)\n",
    "                    data1[\"sector\"]=sector\n",
    "                    data1[\"exchange\"]=exchange\n",
    "                    data1.set_index([\"exchange\",\"sector\"],inplace=True,append=True)\n",
    "                    if data1 is None:\n",
    "                        dataframeSectores=data1\n",
    "                    else:\n",
    "                        dataframeSectores=pd.concat([dataframeSectores,data1])\n",
    "\n",
    "                except Exception as e:\n",
    "                    print(e)"
   ]
  },
  {
   "cell_type": "code",
   "execution_count": null,
   "id": "f798883e",
   "metadata": {},
   "outputs": [],
   "source": [
    "dataframeSectores=bd.getPreciosSectores()"
   ]
  },
  {
   "cell_type": "code",
   "execution_count": null,
   "id": "a96b5e91",
   "metadata": {
    "scrolled": true
   },
   "outputs": [],
   "source": [
    "if CARGAR_NUEVOS_DATOS:\n",
    "    import sqlalchemy\n",
    "    engine = sqlalchemy.create_engine('mysql+mysqlconnector://{0}:{1}@{2}/{3}?charset=utf8'.format(\n",
    "        \"usuario1\", \"password\", \"localhost:33062\", \"stocks\"), pool_recycle=3600, pool_size=5).connect()\n",
    "    for exchange in exchanges:\n",
    "        df=dataframeSectores.loc[dataframeSectores.index.get_level_values(1)==exchange]\n",
    "        df=df.rename(columns={\"Adjusted_close\":\"precio\"})\n",
    "        print(df.tail())\n",
    "        df.to_sql(\"preciosPorSectores\", engine,\n",
    "                       if_exists=\"append\", chunksize=1000)"
   ]
  },
  {
   "cell_type": "code",
   "execution_count": null,
   "id": "bd0ba619",
   "metadata": {
    "scrolled": true
   },
   "outputs": [],
   "source": [
    "def analysePrizes():\n",
    "    fundamental=bd.getDataByExchange(tipo=\"fundamental\",exchange=exchange,sector=sector,columnas=columnasFundamental)\n",
    "    fundamental=tD.pasarAtrimestres(fundamental)\n",
    "    precios=bd.getDataByExchange(tipo=\"precios\",exchange=exchange,sector=sector,columnas=columnasPrecios)\n",
    "    precios=tD.pasarAMensual(precios)\n",
    "    precios=precios.loc[:,~precios.columns.duplicated()]\n",
    "    \n",
    "    agrupados=precios.groupby([\"stock\"])\n",
    "    \n",
    "    medias=agrupados.mean()\n",
    "    \n",
    "    des=agrupados.std()\n",
    "    precios=precios.apply(lambda x:(x[\"Adjusted_close\"]-medias.loc[x[\"stock\"]])/des.loc[x[\"stock\"]],axis=1)\n",
    "    precios=precios.groupby(level=0).mean()\n",
    "    return precios[\"Adjusted_close\"].corr(preciosIndice[\"Close\"])"
   ]
  },
  {
   "cell_type": "code",
   "execution_count": null,
   "id": "63fb77a4",
   "metadata": {},
   "outputs": [],
   "source": [
    "correlaciones={}\n",
    "for exchange in exchanges:\n",
    "    df1=dataframeSectores.loc[exchange,slice(None),slice(None),:].droplevel(0)\n",
    "    df1=df1.unstack(level=0, fill_value=None)\n",
    "    correlaciones[exchange]=df1.corr().droplevel(0).droplevel(0,axis=1)"
   ]
  },
  {
   "cell_type": "code",
   "execution_count": null,
   "id": "7b2dd6ac",
   "metadata": {},
   "outputs": [],
   "source": [
    "import matplotlib.pyplot as plt\n",
    "exchange=\"LSE\"\n",
    "NUMERO_STOCKS_POR_SECTOR=(\"select sector ,count(*) as cuenta from sectors where exchange=%s  group by (sector);\",(exchange,))\n",
    "a=bd. executeQuery(NUMERO_STOCKS_POR_SECTOR[0],params=NUMERO_STOCKS_POR_SECTOR[1])\n",
    "data=pd.DataFrame(a)\n",
    "data.columns=[\"sector\",\"cuenta\"]\n",
    "SECTORES=[e for e in (data.loc[data.cuenta>20].sector) if e is not None and e!='']\n",
    "correlaciones[exchange]=correlaciones[exchange].loc[SECTORES,SECTORES]\n",
    "plt.pcolormesh(np.arange(len(correlaciones[exchange].columns)+1), np.arange(len(correlaciones[exchange].columns)+1), correlaciones[exchange].values, cmap = 'Blues')\n",
    "plt.xticks(np.arange(len(correlaciones[exchange].columns)),correlaciones[exchange].columns, rotation = 'vertical')\n",
    "plt.yticks(np.arange(len(correlaciones[exchange].columns)), correlaciones[exchange].columns, rotation = 'horizontal')\n",
    "print(correlaciones[exchange])"
   ]
  },
  {
   "cell_type": "code",
   "execution_count": null,
   "id": "347586e5",
   "metadata": {},
   "outputs": [],
   "source": [
    "round(correlaciones[exchange],2)"
   ]
  },
  {
   "cell_type": "code",
   "execution_count": null,
   "id": "b710901e",
   "metadata": {},
   "outputs": [],
   "source": [
    "round(correlaciones[exchange],3)\n",
    "# en MC las menos correladas son HealthCare,Energy (hay 2),Comunication Services, Technology y Real Estate\n",
    "# en US las menos correladas son Auto Components,Energy, Basic Materials,Technology\n",
    "# en XETRA son Real State, Utilities, Technology,Coumunication Services\n",
    "# en CA  Energy, Utilities, Technology, Comunication and Services\n",
    "# en LSE HeathCare y Technology"
   ]
  },
  {
   "cell_type": "code",
   "execution_count": null,
   "id": "fbab877d",
   "metadata": {},
   "outputs": [],
   "source": []
  },
  {
   "cell_type": "code",
   "execution_count": null,
   "id": "68f11f3b",
   "metadata": {
    "scrolled": false
   },
   "outputs": [],
   "source": [
    "import seaborn as sns\n",
    "import matplotlib.pyplot as plt\n",
    "import datetime as dt\n",
    "dataframeSectores=dataframeSectores.rename(columns={\"Adjusted_close\":\"precio\"})\n",
    "#dataframeSectores1=dataframeSectores[dataframeSectores.index.get_level_values(1).isin([\"Technology\"])]\n",
    "sectors=[\"Basic Materials\",\"Consumer Cyclical\",\"Technology\",\"Healthcare\",\"Real Estate\",\"Communication Services\",\"Utilities\"]\n",
    "#u=df_aux.groupby(level=[\"exchange\",\"sector\"])\n",
    "exs=[\"US\",\"TO\"]\n",
    "df_aux=dataframeSectores.loc[(dataframeSectores.index.get_level_values(0).isin(exs))&(dataframeSectores.index.get_level_values(2)>dt.datetime(2010,1,1))]\n",
    "for exchange in exs:\n",
    "    NUMERO_STOCKS_POR_SECTOR=(\"select sector ,count(*) as cuenta from sectors where exchange=%s  group by (sector);\",(exchange,))\n",
    "    a=bd. executeQuery(NUMERO_STOCKS_POR_SECTOR[0],params=NUMERO_STOCKS_POR_SECTOR[1])\n",
    "    fig=plt.figure(figsize=(15,15))\n",
    "    data=pd.DataFrame(a)\n",
    "    data.columns=[\"sector\",\"cuenta\"]\n",
    "    plt.pie(data[\"cuenta\"],labels=data[\"sector\"],autopct='%1.1f%%')\n",
    "    plt.title(exchange)\n",
    "    print(data)\n",
    "for sector in sectors:\n",
    "   \n",
    "\n",
    "    df=df_aux.loc[df_aux.index.get_level_values(1)==sector]\n",
    "    sns.relplot(x =df.index.get_level_values(2)\\\n",
    "                , y = 'precio', data = df, height=10,kind=\"line\", hue=df.index.get_level_values(0))\n",
    "   \n",
    "    plt.title(sector)\n",
    "    \n",
    "  \n"
   ]
  },
  {
   "cell_type": "code",
   "execution_count": null,
   "id": "3147705d",
   "metadata": {
    "scrolled": true
   },
   "outputs": [],
   "source": [
    "dataframeSectores.tail()"
   ]
  },
  {
   "cell_type": "code",
   "execution_count": null,
   "id": "04199c58",
   "metadata": {
    "scrolled": true
   },
   "outputs": [],
   "source": [
    "exchanges=iter(exchanges)"
   ]
  },
  {
   "cell_type": "code",
   "execution_count": null,
   "id": "a254a3e4",
   "metadata": {
    "scrolled": true
   },
   "outputs": [],
   "source": [
    "exchange=next(exchanges)\n",
    "sectors=bd. getJustSectors(exchange)\n",
    "preciosIndice=bd.getIndexPrizes(exchangesIndex[exchange])\n",
    "preciosIndice= tD.pasarAMensual(preciosIndice)\n",
    "sectors=iter(sectors)       \n",
    "        "
   ]
  },
  {
   "cell_type": "code",
   "execution_count": null,
   "id": "00307344",
   "metadata": {
    "scrolled": true
   },
   "outputs": [],
   "source": [
    "sector=next(sectors)"
   ]
  },
  {
   "cell_type": "code",
   "execution_count": null,
   "id": "3ea38df0",
   "metadata": {
    "scrolled": true
   },
   "outputs": [],
   "source": [
    "exchange,sector"
   ]
  },
  {
   "cell_type": "code",
   "execution_count": null,
   "id": "68113b22",
   "metadata": {
    "scrolled": true
   },
   "outputs": [],
   "source": [
    "fundamental=bd.getDataByExchange(tipo=\"fundamental\",exchange=exchange,sector=sector,columnas=columnasFundamental)\n",
    "fundamental=fundamental.loc[:,~fundamental.columns.duplicated()]\n",
    "fundamental=tD.pasarAtrimestres(fundamental,strings=True)\n",
    "print(fundamental.tail())\n",
    "precios=bd.getDataByExchange(tipo=\"precios\",exchange=exchange,sector=sector,columnas=columnasPrecios)\n",
    "precios=tD.pasarAMensual(precios)\n",
    "print(precios.loc[precios.index.get_value(1)==\"TEF\"].tail())\n",
    "precios=precios.loc[:,~precios.columns.duplicated()]\n",
    "agrupados=precios.groupby([\"stock\"])\n",
    "medias=agrupados.mean()\n",
    "des=agrupados.std()\n",
    "preciosScaled=precios.copy()\n",
    "preciosScaled[\"Adjusted_close\"]=preciosScaled.apply(lambda x:(x[\"Adjusted_close\"]-medias.loc[x[\"stock\"]]/des.loc[x[\"stock\"]]),axis=1)\n"
   ]
  },
  {
   "cell_type": "code",
   "execution_count": null,
   "id": "b7a8c784",
   "metadata": {
    "scrolled": true
   },
   "outputs": [],
   "source": [
    "precios.loc[precios[\"stock\"]==\"TEF\"].sort_index(ascending=False)"
   ]
  },
  {
   "cell_type": "code",
   "execution_count": null,
   "id": "de2006ed",
   "metadata": {
    "scrolled": true
   },
   "outputs": [],
   "source": [
    "import matplotlib.pyplot as plt\n",
    "import seaborn as sns\n",
    "preciosScaled.tail()\n",
    "ciudades=preciosScaled[\"stock\"].value_counts()\n",
    "fig,ax=plt.subplots(figsize=(15,7))\n",
    "ax.pie(ciudades,labels=ciudades.index)\n",
    "fundamental.shape,fundamental.isna().sum(),precios.shape,precios.isna().sum()"
   ]
  },
  {
   "cell_type": "code",
   "execution_count": null,
   "id": "587dd2c6",
   "metadata": {
    "scrolled": true
   },
   "outputs": [],
   "source": [
    "stocks=set(fundamental[\"stock\"])\n",
    "descriptions=bd.getDescriptions(exchange)\n",
    "for stock in stocks:\n",
    "    print(descriptions[stock])\n",
    "    print(\"----------------\")"
   ]
  },
  {
   "cell_type": "code",
   "execution_count": null,
   "id": "4cc4ea81",
   "metadata": {
    "scrolled": true
   },
   "outputs": [],
   "source": [
    "datas=[]\n",
    "from functools import reduce\n",
    "for stock in stocks:\n",
    "    data=preciosScaled.loc[preciosScaled[\"stock\"]==stock,[\"Adjusted_close\"]]\n",
    "\n",
    "\n",
    "    data.rename(columns={\"Adjusted_close\":stock},inplace=True)\n",
    "    datas.append(data)\n",
    "    if(len(datas)>0):\n",
    "            df = reduce(\n",
    "                    lambda left,right: pd.merge(\n",
    "                        left,\n",
    "                        right,\n",
    "                        left_index=True, \n",
    "                        right_index=True, \n",
    "                        how='outer',\n",
    "                        suffixes=('', '_drop')\n",
    "                    ), \n",
    "                    datas\n",
    "                )"
   ]
  },
  {
   "cell_type": "code",
   "execution_count": null,
   "id": "407cb770",
   "metadata": {
    "scrolled": true
   },
   "outputs": [],
   "source": [
    "preciosScaled.loc[preciosScaled[\"stock\"]==\"TEF\"].tail()"
   ]
  },
  {
   "cell_type": "code",
   "execution_count": null,
   "id": "c25c3c1b",
   "metadata": {},
   "outputs": [],
   "source": []
  }
 ],
 "metadata": {
  "kernelspec": {
   "display_name": "Python 3",
   "language": "python",
   "name": "python3"
  },
  "language_info": {
   "codemirror_mode": {
    "name": "ipython",
    "version": 3
   },
   "file_extension": ".py",
   "mimetype": "text/x-python",
   "name": "python",
   "nbconvert_exporter": "python",
   "pygments_lexer": "ipython3",
   "version": "3.9.5"
  }
 },
 "nbformat": 4,
 "nbformat_minor": 5
}
