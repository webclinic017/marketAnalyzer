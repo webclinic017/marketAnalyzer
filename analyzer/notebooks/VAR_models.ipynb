{
 "cells": [
  {
   "cell_type": "code",
   "execution_count": 5,
   "id": "f5d75a42",
   "metadata": {},
   "outputs": [],
   "source": [
    "import sys\n",
    "sys.path.append(\"../getData\")\n",
    "import bdStocks\n",
    "import numpy as np"
   ]
  },
  {
   "cell_type": "code",
   "execution_count": 2,
   "id": "fe24727a",
   "metadata": {},
   "outputs": [
    {
     "name": "stdout",
     "output_type": "stream",
     "text": [
      "Time: 03/01/2022, 17:00 Message: CSV access time 1.8535785675048828\n",
      "\n",
      "Time: 03/01/2022, 17:00 Message: Object size 63.413051 MB\n",
      "\n",
      "Time: 03/01/2022, 17:00 Message: BD access time 2.1390063762664795\n",
      "\n",
      "Time: 03/01/2022, 17:00 Message: Object size 5.571425 MB\n",
      "\n"
     ]
    }
   ],
   "source": [
    "bd=bdStocks.getData()\n",
    "dataframe=bd.getPrizesByExchange(\"MC\")\n",
    "fundamentals=bd.getFundamentalsByExchange(\"MC\")\n",
    "indice=bd.getIndexPrizes(\"ibex35\")"
   ]
  },
  {
   "cell_type": "code",
   "execution_count": 3,
   "id": "9efd16dd",
   "metadata": {},
   "outputs": [
    {
     "data": {
      "text/html": [
       "<div>\n",
       "<style scoped>\n",
       "    .dataframe tbody tr th:only-of-type {\n",
       "        vertical-align: middle;\n",
       "    }\n",
       "\n",
       "    .dataframe tbody tr th {\n",
       "        vertical-align: top;\n",
       "    }\n",
       "\n",
       "    .dataframe thead th {\n",
       "        text-align: right;\n",
       "    }\n",
       "</style>\n",
       "<table border=\"1\" class=\"dataframe\">\n",
       "  <thead>\n",
       "    <tr style=\"text-align: right;\">\n",
       "      <th></th>\n",
       "      <th>Date</th>\n",
       "      <th>Open</th>\n",
       "      <th>High</th>\n",
       "      <th>Low</th>\n",
       "      <th>Close</th>\n",
       "      <th>Volume</th>\n",
       "      <th>Currency</th>\n",
       "      <th>indice</th>\n",
       "    </tr>\n",
       "    <tr>\n",
       "      <th>Date</th>\n",
       "      <th></th>\n",
       "      <th></th>\n",
       "      <th></th>\n",
       "      <th></th>\n",
       "      <th></th>\n",
       "      <th></th>\n",
       "      <th></th>\n",
       "      <th></th>\n",
       "    </tr>\n",
       "  </thead>\n",
       "  <tbody>\n",
       "    <tr>\n",
       "      <th>2000-01-03</th>\n",
       "      <td>2000-01-03</td>\n",
       "      <td>11846.6</td>\n",
       "      <td>11881.8</td>\n",
       "      <td>11574.4</td>\n",
       "      <td>11610.0</td>\n",
       "      <td>60107000</td>\n",
       "      <td>EUR</td>\n",
       "      <td>ibex35</td>\n",
       "    </tr>\n",
       "    <tr>\n",
       "      <th>2000-01-04</th>\n",
       "      <td>2000-01-04</td>\n",
       "      <td>11499.5</td>\n",
       "      <td>11530.0</td>\n",
       "      <td>11159.8</td>\n",
       "      <td>11206.6</td>\n",
       "      <td>62539000</td>\n",
       "      <td>EUR</td>\n",
       "      <td>ibex35</td>\n",
       "    </tr>\n",
       "    <tr>\n",
       "      <th>2000-01-05</th>\n",
       "      <td>2000-01-05</td>\n",
       "      <td>10917.6</td>\n",
       "      <td>11068.1</td>\n",
       "      <td>10824.9</td>\n",
       "      <td>10863.1</td>\n",
       "      <td>68153000</td>\n",
       "      <td>EUR</td>\n",
       "      <td>ibex35</td>\n",
       "    </tr>\n",
       "    <tr>\n",
       "      <th>2000-01-07</th>\n",
       "      <td>2000-01-07</td>\n",
       "      <td>10963.4</td>\n",
       "      <td>11137.9</td>\n",
       "      <td>10882.7</td>\n",
       "      <td>11102.4</td>\n",
       "      <td>144207008</td>\n",
       "      <td>EUR</td>\n",
       "      <td>ibex35</td>\n",
       "    </tr>\n",
       "    <tr>\n",
       "      <th>2000-01-10</th>\n",
       "      <td>2000-01-10</td>\n",
       "      <td>11363.8</td>\n",
       "      <td>11364.3</td>\n",
       "      <td>11120.6</td>\n",
       "      <td>11173.3</td>\n",
       "      <td>133817000</td>\n",
       "      <td>EUR</td>\n",
       "      <td>ibex35</td>\n",
       "    </tr>\n",
       "  </tbody>\n",
       "</table>\n",
       "</div>"
      ],
      "text/plain": [
       "                 Date     Open     High      Low    Close     Volume Currency  \\\n",
       "Date                                                                            \n",
       "2000-01-03 2000-01-03  11846.6  11881.8  11574.4  11610.0   60107000      EUR   \n",
       "2000-01-04 2000-01-04  11499.5  11530.0  11159.8  11206.6   62539000      EUR   \n",
       "2000-01-05 2000-01-05  10917.6  11068.1  10824.9  10863.1   68153000      EUR   \n",
       "2000-01-07 2000-01-07  10963.4  11137.9  10882.7  11102.4  144207008      EUR   \n",
       "2000-01-10 2000-01-10  11363.8  11364.3  11120.6  11173.3  133817000      EUR   \n",
       "\n",
       "            indice  \n",
       "Date                \n",
       "2000-01-03  ibex35  \n",
       "2000-01-04  ibex35  \n",
       "2000-01-05  ibex35  \n",
       "2000-01-07  ibex35  \n",
       "2000-01-10  ibex35  "
      ]
     },
     "execution_count": 3,
     "metadata": {},
     "output_type": "execute_result"
    }
   ],
   "source": [
    "indice.head()"
   ]
  },
  {
   "cell_type": "code",
   "execution_count": 7,
   "id": "d36b985d",
   "metadata": {},
   "outputs": [
    {
     "data": {
      "text/plain": [
       "array(['A3M', 'ACS', 'ACX', 'ADX', 'ADZ', 'AEDAS', 'AENA', 'AGIL', 'AI',\n",
       "       'AIR', 'ALB', 'ALC', 'ALM', 'ALNT', 'ALQ', 'AMP', 'AMS', 'ANA',\n",
       "       'APAM', 'APPS', 'ARM', 'ATRY', 'AZK', 'BBVA', 'BKT', 'BKY', 'CABK',\n",
       "       'CAF', 'CASH', 'CBAV', 'CCEP', 'CDR', 'CEV', 'CIE', 'CLNX', 'COL',\n",
       "       'COM', 'DIA', 'DOM', 'EAT', 'EBRO', 'ECR', 'EDR', 'EEP', 'ELE',\n",
       "       'ENC', 'ENG', 'ENO', 'EZE', 'FACE', 'FAE', 'FCC', 'FDR', 'FER',\n",
       "       'GALQ', 'GCO', 'GEST', 'GRE', 'GRF', 'GRI', 'GRN', 'GSJ', 'HOME',\n",
       "       'IAG', 'IBE', 'IBG', 'IDR', 'ISUR', 'ITX', 'IZER', 'LDA', 'LGT',\n",
       "       'LLN', 'LOG', 'LRE', 'MAP', 'MCM', 'MDF', 'MED', 'MEL', 'MRL',\n",
       "       'MTB', 'MTS', 'MVC', 'NBI', 'NEA', 'NHH', 'NTGY', 'NTH', 'NTX',\n",
       "       'OLE', 'ORY', 'PHM', 'PRM', 'PRS', 'PSG', 'PVA', 'R4', 'RDM',\n",
       "       'REE', 'REN', 'REP', 'RIO', 'RJF', 'RLIA', 'ROVI', 'SAB', 'SAN',\n",
       "       'SCYR', 'SGRE', 'SLR', 'SPK', 'SPS', 'TEF', 'TL5', 'TLGO', 'TRE',\n",
       "       'TRG', 'TUB', 'UBS', 'UNI', 'VER', 'VID', 'VIS', 'VOC', 'YGOP',\n",
       "       'YVBA', 'ZOT'], dtype=object)"
      ]
     },
     "execution_count": 7,
     "metadata": {},
     "output_type": "execute_result"
    }
   ],
   "source": [
    "stocks=np.unique(fundamentals[\"stock\"])\n",
    "stocks"
   ]
  },
  {
   "cell_type": "code",
   "execution_count": 8,
   "id": "28816261",
   "metadata": {},
   "outputs": [],
   "source": [
    "import statsmodels"
   ]
  }
 ],
 "metadata": {
  "kernelspec": {
   "display_name": "Python 3",
   "language": "python",
   "name": "python3"
  },
  "language_info": {
   "codemirror_mode": {
    "name": "ipython",
    "version": 3
   },
   "file_extension": ".py",
   "mimetype": "text/x-python",
   "name": "python",
   "nbconvert_exporter": "python",
   "pygments_lexer": "ipython3",
   "version": "3.9.5"
  }
 },
 "nbformat": 4,
 "nbformat_minor": 5
}
